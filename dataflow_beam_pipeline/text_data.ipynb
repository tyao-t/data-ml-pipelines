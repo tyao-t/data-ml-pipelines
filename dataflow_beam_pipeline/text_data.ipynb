{
 "cells": [
  {
   "cell_type": "code",
   "execution_count": null,
   "id": "74a2aa48",
   "metadata": {},
   "outputs": [],
   "source": [
    "# install Apache Beam\n",
    "!pip3 install apache-beam[gcp]\n",
    "\n",
    "# set up GCP credentials \n",
    "!export GOOGLE_APPLICATION_CREDENTIALS=dsdemo.json"
   ]
  },
  {
   "cell_type": "code",
   "execution_count": null,
   "id": "830896fc",
   "metadata": {},
   "outputs": [],
   "source": [
    "!python3 -m apache_beam.examples.wordcount --output outputs"
   ]
  },
  {
   "cell_type": "code",
   "execution_count": null,
   "id": "8c232471",
   "metadata": {},
   "outputs": [],
   "source": [
    "# append.py\n",
    "import apache_beam as beam\n",
    "import argparse\n",
    "from apache_beam.options.pipeline_options import PipelineOptions\n",
    "from apache_beam.io import ReadFromText\n",
    "from apache_beam.io import WriteToText\n",
    "\n",
    "# define a function for transforming the data \n",
    "class AppendDoFn(beam.DoFn):\n",
    "    def process(self, element):\n",
    "        return element + \" - Hello World!\"\n",
    "        \n",
    "# set up pipeline parameters \n",
    "parser = argparse.ArgumentParser()\n",
    "parser.add_argument('--input', dest='input',\n",
    "          default='gs://dataflow-samples/shakespeare/kinglear.txt')\n",
    "parser.add_argument('--output', dest='output',\n",
    "          default='gs://dataflow_beam_pipeline/shakespeare/kinglear.txt')\n",
    "known_args, pipeline_args = parser.parse_known_args(None)\n",
    "pipeline_options = PipelineOptions(pipeline_args)\n",
    "\n",
    "# define the pipeline steps \n",
    "p = beam.Pipeline(options=pipeline_options)\n",
    "lines = p | 'read' >> ReadFromText(known_args.input)\n",
    "appended = lines | 'append' >> beam.ParDo(AppendDoFn())\n",
    "appended | 'write' >> WriteToText(known_args.output)\n",
    "\n",
    "# run the pipeline \n",
    "result = p.run()\n",
    "result.wait_until_finish()"
   ]
  },
  {
   "cell_type": "code",
   "execution_count": null,
   "id": "4dcc7d24",
   "metadata": {},
   "outputs": [],
   "source": [
    "# run locally\n",
    "python3 append.py \n",
    "\n",
    "# run managed \n",
    "python3 append.py --runner DataflowRunner --project my_project_id --temp_location gs://dataflow_beam_pipeline/tmp/"
   ]
  }
 ],
 "metadata": {
  "kernelspec": {
   "display_name": "Python 3 (ipykernel)",
   "language": "python",
   "name": "python3"
  },
  "language_info": {
   "codemirror_mode": {
    "name": "ipython",
    "version": 3
   },
   "file_extension": ".py",
   "mimetype": "text/x-python",
   "name": "python",
   "nbconvert_exporter": "python",
   "pygments_lexer": "ipython3",
   "version": "3.9.7"
  }
 },
 "nbformat": 4,
 "nbformat_minor": 5
}
