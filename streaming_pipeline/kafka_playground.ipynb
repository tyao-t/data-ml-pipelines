{
 "cells": [
  {
   "cell_type": "code",
   "execution_count": null,
   "id": "29b8a7b9",
   "metadata": {},
   "outputs": [],
   "source": [
    "# Simple producer\n",
    "from kafka import KafkaProducer\n",
    "from json import dumps\n",
    "import time\n",
    " \n",
    "producer = KafkaProducer(bootstrap_servers=['localhost:9092'],\n",
    "          value_serializer=lambda x: dumps(x).encode('utf-8'))\n",
    " \n",
    "data = {'hello' : 'world', 'time': time.time()}\n",
    "producer.send('dsp', data)"
   ]
  },
  {
   "cell_type": "code",
   "execution_count": null,
   "id": "aff472a5",
   "metadata": {},
   "outputs": [],
   "source": [
    "# Simple consumer\n",
    "from kafka import KafkaConsumer\n",
    "from json import loads\n",
    " \n",
    "consumer = KafkaConsumer('dsp',\n",
    "     bootstrap_servers=['localhost:9092'],\n",
    "     value_deserializer=lambda x: loads(x.decode('utf-8')))\n",
    " \n",
    "for x in consumer:\n",
    "    print(x.value)"
   ]
  }
 ],
 "metadata": {
  "kernelspec": {
   "display_name": "Python 3 (ipykernel)",
   "language": "python",
   "name": "python3"
  },
  "language_info": {
   "codemirror_mode": {
    "name": "ipython",
    "version": 3
   },
   "file_extension": ".py",
   "mimetype": "text/x-python",
   "name": "python",
   "nbconvert_exporter": "python",
   "pygments_lexer": "ipython3",
   "version": "3.9.7"
  }
 },
 "nbformat": 4,
 "nbformat_minor": 5
}
