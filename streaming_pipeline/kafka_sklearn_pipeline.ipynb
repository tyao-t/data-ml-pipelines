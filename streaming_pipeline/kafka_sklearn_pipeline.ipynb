{
 "cells": [
  {
   "cell_type": "code",
   "execution_count": null,
   "id": "d63af29b",
   "metadata": {},
   "outputs": [],
   "source": [
    "from pyspark.sql.types import StringType\n",
    "import json \n",
    "import pandas as pd\n",
    "from sklearn.linear_model import LogisticRegression\n",
    "\n",
    "# build a logistic regression model \n",
    "gamesDF = pd.read_csv(\"https://github.com/bgweber/Twitch/raw/master/Recommendations/games-expand.csv\")\n",
    "model = LogisticRegression() \n",
    "model.fit(gamesDF.iloc[:,0:10], gamesDF['label'])\n",
    "\n",
    "# define the UDF for scoring users \n",
    "def score(row):\n",
    "    d = json.loads(row)\n",
    "    p = pd.DataFrame.from_dict(d, orient = \"index\").transpose()        \n",
    "    pred = model.predict_proba(p.iloc[:,0:10])[0][0]\n",
    "    result = {'User_ID': d['User_ID'], 'pred': pred }\n",
    "    return str(json.dumps(result))\n",
    "\n",
    "# read from Kafka \n",
    "df = spark.readStream.format(\"kafka\") \n",
    "  .option(\"kafka.bootstrap.servers\", \"{aws_external_ip}:9092\") \n",
    "  .option(\"subscribe\", \"dsp\").\n",
    "  .option(\"startingOffsets\", \"earliest\").load()\n",
    "\n",
    "# select the value field and apply the UDF     \n",
    "df = df.selectExpr(\"CAST(value AS STRING)\")\n",
    "score_udf = udf(score, StringType())    \n",
    "df = df.select( score_udf(\"value\").alias(\"value\"))\n",
    "\n",
    "# Write results to Kafka \n",
    "query = df.writeStream.format(\"kafka\") \n",
    "  .option(\"kafka.bootstrap.servers\", \"{aws_external_ip}:9092\") \n",
    "  .option(\"topic\", \"predictions\") \n",
    "  .option(\"checkpointLocation\", \"/temp\").start()"
   ]
  },
  {
   "cell_type": "code",
   "execution_count": null,
   "id": "50764395",
   "metadata": {},
   "outputs": [],
   "source": [
    "from kafka import KafkaConsumer\n",
    "from json import loads\n",
    "\n",
    "consumer = KafkaConsumer('predictions',\n",
    "     bootstrap_servers=['{aws_external_ip}:9092'],\n",
    "     value_deserializer=lambda x: loads(x))\n",
    "\n",
    "for x in consumer:\n",
    "    print(x.value)"
   ]
  }
 ],
 "metadata": {
  "kernelspec": {
   "display_name": "Python 3 (ipykernel)",
   "language": "python",
   "name": "python3"
  },
  "language_info": {
   "codemirror_mode": {
    "name": "ipython",
    "version": 3
   },
   "file_extension": ".py",
   "mimetype": "text/x-python",
   "name": "python",
   "nbconvert_exporter": "python",
   "pygments_lexer": "ipython3",
   "version": "3.9.7"
  }
 },
 "nbformat": 4,
 "nbformat_minor": 5
}
