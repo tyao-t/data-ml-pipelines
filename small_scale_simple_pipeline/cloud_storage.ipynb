{
 "cells": [
  {
   "cell_type": "code",
   "execution_count": 5,
   "id": "1f35e790",
   "metadata": {},
   "outputs": [],
   "source": [
    "!export GOOGLE_APPLICATION_CREDENTIALS=\"/home/versyri1_gmail_com/cred.json\""
   ]
  },
  {
   "cell_type": "code",
   "execution_count": 4,
   "id": "acf1b61d",
   "metadata": {},
   "outputs": [
    {
     "name": "stdout",
     "output_type": "stream",
     "text": [
      "versyri1_dsp_model_store1\n"
     ]
    }
   ],
   "source": [
    "from google.cloud import storage\n",
    "bucket_name = \"versyri1_dsp_model_store1\"\n",
    "\n",
    "storage_client = storage.Client()\n",
    "storage_client.create_bucket(bucket_name)\n",
    "\n",
    "for bucket in storage_client.list_buckets():\n",
    "    print(bucket.name)"
   ]
  },
  {
   "cell_type": "code",
   "execution_count": 1,
   "id": "59454934",
   "metadata": {},
   "outputs": [
    {
     "name": "stdout",
     "output_type": "stream",
     "text": [
      "/home/versyri1_gmail_com/cred.json\r\n"
     ]
    }
   ],
   "source": [
    "!echo $GOOGLE_APPLICATION_CREDENTIALS"
   ]
  },
  {
   "cell_type": "code",
   "execution_count": null,
   "id": "e5a3fc7a",
   "metadata": {},
   "outputs": [],
   "source": [
    "import pickle \n",
    "\n",
    "blob = bucket.blob(\"serverless/logit/v1\")\n",
    "blob.download_to_filename(\"local_logit.pkl\")\n",
    "model = pickle.load(open(\"local_logit.pkl\", 'rb'))\n",
    "print(model)"
   ]
  }
 ],
 "metadata": {
  "kernelspec": {
   "display_name": "Python 3 (ipykernel)",
   "language": "python",
   "name": "python3"
  },
  "language_info": {
   "codemirror_mode": {
    "name": "ipython",
    "version": 3
   },
   "file_extension": ".py",
   "mimetype": "text/x-python",
   "name": "python",
   "nbconvert_exporter": "python",
   "pygments_lexer": "ipython3",
   "version": "3.9.2"
  }
 },
 "nbformat": 4,
 "nbformat_minor": 5
}
