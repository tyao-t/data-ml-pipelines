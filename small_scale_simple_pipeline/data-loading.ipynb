{
 "cells": [
  {
   "cell_type": "code",
   "execution_count": 2,
   "id": "ab43d62a",
   "metadata": {},
   "outputs": [
    {
     "name": "stdout",
     "output_type": "stream",
     "text": [
      "Requirement already satisfied: pandas in ./data-ml-pipeline/lib/python3.9/site-packages (1.4.2)\n",
      "Requirement already satisfied: python-dateutil>=2.8.1 in ./data-ml-pipeline/lib/python3.9/site-packages (from pandas) (2.8.2)\n",
      "Requirement already satisfied: numpy>=1.18.5 in ./data-ml-pipeline/lib/python3.9/site-packages (from pandas) (1.22.4)\n",
      "Requirement already satisfied: pytz>=2020.1 in ./data-ml-pipeline/lib/python3.9/site-packages (from pandas) (2022.1)\n",
      "Requirement already satisfied: six>=1.5 in ./data-ml-pipeline/lib/python3.9/site-packages (from python-dateutil>=2.8.1->pandas) (1.16.0)\n",
      "Requirement already satisfied: sklearn in ./data-ml-pipeline/lib/python3.9/site-packages (0.0)\n",
      "Requirement already satisfied: scikit-learn in ./data-ml-pipeline/lib/python3.9/site-packages (from sklearn) (1.1.1)\n",
      "Requirement already satisfied: joblib>=1.0.0 in ./data-ml-pipeline/lib/python3.9/site-packages (from scikit-learn->sklearn) (1.1.0)\n",
      "Requirement already satisfied: scipy>=1.3.2 in ./data-ml-pipeline/lib/python3.9/site-packages (from scikit-learn->sklearn) (1.8.1)\n",
      "Requirement already satisfied: threadpoolctl>=2.0.0 in ./data-ml-pipeline/lib/python3.9/site-packages (from scikit-learn->sklearn) (3.1.0)\n",
      "Requirement already satisfied: numpy>=1.17.3 in ./data-ml-pipeline/lib/python3.9/site-packages (from scikit-learn->sklearn) (1.22.4)\n"
     ]
    }
   ],
   "source": [
    "!pip install pandas\n",
    "!pip install sklearn"
   ]
  },
  {
   "cell_type": "code",
   "execution_count": 3,
   "id": "1f8a2048",
   "metadata": {},
   "outputs": [
    {
     "name": "stderr",
     "output_type": "stream",
     "text": [
      "/home/versyri1/src/data-ml-pipeline/lib/python3.9/site-packages/sklearn/utils/deprecation.py:87: FutureWarning: Function load_boston is deprecated; `load_boston` is deprecated in 1.0 and will be removed in 1.2.\n",
      "\n",
      "    The Boston housing prices dataset has an ethical problem. You can refer to\n",
      "    the documentation of this function for further details.\n",
      "\n",
      "    The scikit-learn maintainers therefore strongly discourage the use of this\n",
      "    dataset unless the purpose of the code is to study and educate about\n",
      "    ethical issues in data science and machine learning.\n",
      "\n",
      "    In this special case, you can fetch the dataset from the original\n",
      "    source::\n",
      "\n",
      "        import pandas as pd\n",
      "        import numpy as np\n",
      "\n",
      "        data_url = \"http://lib.stat.cmu.edu/datasets/boston\"\n",
      "        raw_df = pd.read_csv(data_url, sep=\"\\s+\", skiprows=22, header=None)\n",
      "        data = np.hstack([raw_df.values[::2, :], raw_df.values[1::2, :2]])\n",
      "        target = raw_df.values[1::2, 2]\n",
      "\n",
      "    Alternative datasets include the California housing dataset (i.e.\n",
      "    :func:`~sklearn.datasets.fetch_california_housing`) and the Ames housing\n",
      "    dataset. You can load the datasets as follows::\n",
      "\n",
      "        from sklearn.datasets import fetch_california_housing\n",
      "        housing = fetch_california_housing()\n",
      "\n",
      "    for the California housing dataset and::\n",
      "\n",
      "        from sklearn.datasets import fetch_openml\n",
      "        housing = fetch_openml(name=\"house_prices\", as_frame=True)\n",
      "\n",
      "    for the Ames housing dataset.\n",
      "  warnings.warn(msg, category=FutureWarning)\n"
     ]
    },
    {
     "ename": "ValueError",
     "evalue": "too many values to unpack (expected 2)",
     "output_type": "error",
     "traceback": [
      "\u001b[0;31m---------------------------------------------------------------------------\u001b[0m",
      "\u001b[0;31mValueError\u001b[0m                                Traceback (most recent call last)",
      "Input \u001b[0;32mIn [3]\u001b[0m, in \u001b[0;36m<cell line: 3>\u001b[0;34m()\u001b[0m\n\u001b[1;32m      1\u001b[0m \u001b[38;5;28;01mfrom\u001b[39;00m \u001b[38;5;21;01msklearn\u001b[39;00m\u001b[38;5;21;01m.\u001b[39;00m\u001b[38;5;21;01mdatasets\u001b[39;00m \u001b[38;5;28;01mimport\u001b[39;00m load_boston\n\u001b[1;32m      2\u001b[0m \u001b[38;5;28;01mimport\u001b[39;00m \u001b[38;5;21;01mpandas\u001b[39;00m \u001b[38;5;28;01mas\u001b[39;00m \u001b[38;5;21;01mpd\u001b[39;00m\n\u001b[0;32m----> 3\u001b[0m data, target \u001b[38;5;241m=\u001b[39m load_boston()\n\u001b[1;32m      4\u001b[0m bostonDF \u001b[38;5;241m=\u001b[39m pd\u001b[38;5;241m.\u001b[39mDataFrame(data, columns\u001b[38;5;241m=\u001b[39mload_boston()\u001b[38;5;241m.\u001b[39mfeature_names)\n\u001b[1;32m      5\u001b[0m bostonDF[\u001b[38;5;124m'\u001b[39m\u001b[38;5;124mlabel\u001b[39m\u001b[38;5;124m'\u001b[39m] \u001b[38;5;241m=\u001b[39m target\n",
      "\u001b[0;31mValueError\u001b[0m: too many values to unpack (expected 2)"
     ]
    }
   ],
   "source": [
    "from sklearn.datasets import load_boston\n",
    "import pandas as pd\n",
    "data, target = load_boston()\n",
    "bostonDF = pd.DataFrame(data, columns=load_boston().feature_names)\n",
    "bostonDF['label'] = target\n",
    "bostonDF.head()"
   ]
  },
  {
   "cell_type": "code",
   "execution_count": 4,
   "id": "12aa4f41",
   "metadata": {},
   "outputs": [
    {
     "data": {
      "text/html": [
       "<div>\n",
       "<style scoped>\n",
       "    .dataframe tbody tr th:only-of-type {\n",
       "        vertical-align: middle;\n",
       "    }\n",
       "\n",
       "    .dataframe tbody tr th {\n",
       "        vertical-align: top;\n",
       "    }\n",
       "\n",
       "    .dataframe thead th {\n",
       "        text-align: right;\n",
       "    }\n",
       "</style>\n",
       "<table border=\"1\" class=\"dataframe\">\n",
       "  <thead>\n",
       "    <tr style=\"text-align: right;\">\n",
       "      <th></th>\n",
       "      <th>G1</th>\n",
       "      <th>G2</th>\n",
       "      <th>G3</th>\n",
       "      <th>G4</th>\n",
       "      <th>G5</th>\n",
       "      <th>G6</th>\n",
       "      <th>G7</th>\n",
       "      <th>G8</th>\n",
       "      <th>G9</th>\n",
       "      <th>G10</th>\n",
       "      <th>label</th>\n",
       "    </tr>\n",
       "  </thead>\n",
       "  <tbody>\n",
       "    <tr>\n",
       "      <th>0</th>\n",
       "      <td>0</td>\n",
       "      <td>0</td>\n",
       "      <td>0</td>\n",
       "      <td>1</td>\n",
       "      <td>0</td>\n",
       "      <td>0</td>\n",
       "      <td>0</td>\n",
       "      <td>0</td>\n",
       "      <td>0</td>\n",
       "      <td>0</td>\n",
       "      <td>0</td>\n",
       "    </tr>\n",
       "    <tr>\n",
       "      <th>1</th>\n",
       "      <td>0</td>\n",
       "      <td>0</td>\n",
       "      <td>0</td>\n",
       "      <td>0</td>\n",
       "      <td>1</td>\n",
       "      <td>0</td>\n",
       "      <td>0</td>\n",
       "      <td>0</td>\n",
       "      <td>0</td>\n",
       "      <td>0</td>\n",
       "      <td>0</td>\n",
       "    </tr>\n",
       "    <tr>\n",
       "      <th>2</th>\n",
       "      <td>0</td>\n",
       "      <td>0</td>\n",
       "      <td>1</td>\n",
       "      <td>0</td>\n",
       "      <td>0</td>\n",
       "      <td>0</td>\n",
       "      <td>0</td>\n",
       "      <td>0</td>\n",
       "      <td>0</td>\n",
       "      <td>0</td>\n",
       "      <td>0</td>\n",
       "    </tr>\n",
       "    <tr>\n",
       "      <th>3</th>\n",
       "      <td>0</td>\n",
       "      <td>0</td>\n",
       "      <td>1</td>\n",
       "      <td>0</td>\n",
       "      <td>0</td>\n",
       "      <td>1</td>\n",
       "      <td>1</td>\n",
       "      <td>0</td>\n",
       "      <td>0</td>\n",
       "      <td>1</td>\n",
       "      <td>1</td>\n",
       "    </tr>\n",
       "    <tr>\n",
       "      <th>4</th>\n",
       "      <td>0</td>\n",
       "      <td>0</td>\n",
       "      <td>1</td>\n",
       "      <td>0</td>\n",
       "      <td>1</td>\n",
       "      <td>1</td>\n",
       "      <td>0</td>\n",
       "      <td>1</td>\n",
       "      <td>1</td>\n",
       "      <td>0</td>\n",
       "      <td>1</td>\n",
       "    </tr>\n",
       "  </tbody>\n",
       "</table>\n",
       "</div>"
      ],
      "text/plain": [
       "   G1  G2  G3  G4  G5  G6  G7  G8  G9  G10  label\n",
       "0   0   0   0   1   0   0   0   0   0    0      0\n",
       "1   0   0   0   0   1   0   0   0   0    0      0\n",
       "2   0   0   1   0   0   0   0   0   0    0      0\n",
       "3   0   0   1   0   0   1   1   0   0    1      1\n",
       "4   0   0   1   0   1   1   0   1   1    0      1"
      ]
     },
     "execution_count": 4,
     "metadata": {},
     "output_type": "execute_result"
    }
   ],
   "source": [
    "gamesDF = pd.read_csv(\"https://github.com/bgweber/Twitch/raw/master/Recommendations/games-expand.csv\")\n",
    "gamesDF.head()"
   ]
  },
  {
   "cell_type": "code",
   "execution_count": 12,
   "id": "3e6d3ead",
   "metadata": {},
   "outputs": [
    {
     "name": "stdout",
     "output_type": "stream",
     "text": [
      "Requirement already satisfied: google-cloud-bigquery[pandas] in ./data-ml-pipeline/lib/python3.9/site-packages (3.1.0)\n",
      "Requirement already satisfied: protobuf>=3.12.0 in ./data-ml-pipeline/lib/python3.9/site-packages (from google-cloud-bigquery[pandas]) (3.20.1)\n",
      "Requirement already satisfied: proto-plus>=1.15.0 in ./data-ml-pipeline/lib/python3.9/site-packages (from google-cloud-bigquery[pandas]) (1.20.5)\n",
      "Requirement already satisfied: google-api-core[grpc]!=2.0.*,!=2.1.*,!=2.2.*,!=2.3.0,<3.0.0dev,>=1.31.5 in ./data-ml-pipeline/lib/python3.9/site-packages (from google-cloud-bigquery[pandas]) (2.8.1)\n",
      "Requirement already satisfied: google-cloud-bigquery-storage<3.0.0dev,>=2.0.0 in ./data-ml-pipeline/lib/python3.9/site-packages (from google-cloud-bigquery[pandas]) (2.13.1)\n",
      "Requirement already satisfied: python-dateutil<3.0dev,>=2.7.2 in ./data-ml-pipeline/lib/python3.9/site-packages (from google-cloud-bigquery[pandas]) (2.8.2)\n",
      "Requirement already satisfied: grpcio<2.0dev,>=1.38.1 in ./data-ml-pipeline/lib/python3.9/site-packages (from google-cloud-bigquery[pandas]) (1.46.3)\n",
      "Requirement already satisfied: requests<3.0.0dev,>=2.18.0 in ./data-ml-pipeline/lib/python3.9/site-packages (from google-cloud-bigquery[pandas]) (2.27.1)\n",
      "Requirement already satisfied: google-cloud-core<3.0.0dev,>=1.4.1 in ./data-ml-pipeline/lib/python3.9/site-packages (from google-cloud-bigquery[pandas]) (2.3.0)\n",
      "Requirement already satisfied: pyarrow<9.0dev,>=3.0.0 in ./data-ml-pipeline/lib/python3.9/site-packages (from google-cloud-bigquery[pandas]) (8.0.0)\n",
      "Requirement already satisfied: packaging>=14.3 in ./data-ml-pipeline/lib/python3.9/site-packages (from google-cloud-bigquery[pandas]) (21.3)\n",
      "Requirement already satisfied: google-resumable-media<3.0dev,>=0.6.0 in ./data-ml-pipeline/lib/python3.9/site-packages (from google-cloud-bigquery[pandas]) (2.3.3)\n",
      "Requirement already satisfied: db-dtypes<2.0.0dev,>=0.3.0 in ./data-ml-pipeline/lib/python3.9/site-packages (from google-cloud-bigquery[pandas]) (1.0.1)\n",
      "Requirement already satisfied: pandas>=1.0.0 in ./data-ml-pipeline/lib/python3.9/site-packages (from google-cloud-bigquery[pandas]) (1.4.2)\n",
      "Requirement already satisfied: numpy<2.0dev,>=1.16.6 in ./data-ml-pipeline/lib/python3.9/site-packages (from db-dtypes<2.0.0dev,>=0.3.0->google-cloud-bigquery[pandas]) (1.22.4)\n",
      "Requirement already satisfied: googleapis-common-protos<2.0dev,>=1.56.2 in ./data-ml-pipeline/lib/python3.9/site-packages (from google-api-core[grpc]!=2.0.*,!=2.1.*,!=2.2.*,!=2.3.0,<3.0.0dev,>=1.31.5->google-cloud-bigquery[pandas]) (1.56.2)\n",
      "Requirement already satisfied: google-auth<3.0dev,>=1.25.0 in ./data-ml-pipeline/lib/python3.9/site-packages (from google-api-core[grpc]!=2.0.*,!=2.1.*,!=2.2.*,!=2.3.0,<3.0.0dev,>=1.31.5->google-cloud-bigquery[pandas]) (2.6.6)\n",
      "Requirement already satisfied: grpcio-status<2.0dev,>=1.33.2 in ./data-ml-pipeline/lib/python3.9/site-packages (from google-api-core[grpc]!=2.0.*,!=2.1.*,!=2.2.*,!=2.3.0,<3.0.0dev,>=1.31.5->google-cloud-bigquery[pandas]) (1.46.3)\n",
      "Requirement already satisfied: google-crc32c<2.0dev,>=1.0 in ./data-ml-pipeline/lib/python3.9/site-packages (from google-resumable-media<3.0dev,>=0.6.0->google-cloud-bigquery[pandas]) (1.3.0)\n",
      "Requirement already satisfied: six>=1.5.2 in ./data-ml-pipeline/lib/python3.9/site-packages (from grpcio<2.0dev,>=1.38.1->google-cloud-bigquery[pandas]) (1.16.0)\n",
      "Requirement already satisfied: pyparsing!=3.0.5,>=2.0.2 in ./data-ml-pipeline/lib/python3.9/site-packages (from packaging>=14.3->google-cloud-bigquery[pandas]) (3.0.9)\n",
      "Requirement already satisfied: pytz>=2020.1 in ./data-ml-pipeline/lib/python3.9/site-packages (from pandas>=1.0.0->google-cloud-bigquery[pandas]) (2022.1)\n",
      "Requirement already satisfied: idna<4,>=2.5 in ./data-ml-pipeline/lib/python3.9/site-packages (from requests<3.0.0dev,>=2.18.0->google-cloud-bigquery[pandas]) (3.3)\n",
      "Requirement already satisfied: urllib3<1.27,>=1.21.1 in ./data-ml-pipeline/lib/python3.9/site-packages (from requests<3.0.0dev,>=2.18.0->google-cloud-bigquery[pandas]) (1.26.9)\n",
      "Requirement already satisfied: charset-normalizer~=2.0.0 in ./data-ml-pipeline/lib/python3.9/site-packages (from requests<3.0.0dev,>=2.18.0->google-cloud-bigquery[pandas]) (2.0.12)\n",
      "Requirement already satisfied: certifi>=2017.4.17 in ./data-ml-pipeline/lib/python3.9/site-packages (from requests<3.0.0dev,>=2.18.0->google-cloud-bigquery[pandas]) (2022.5.18.1)\n",
      "Requirement already satisfied: cachetools<6.0,>=2.0.0 in ./data-ml-pipeline/lib/python3.9/site-packages (from google-auth<3.0dev,>=1.25.0->google-api-core[grpc]!=2.0.*,!=2.1.*,!=2.2.*,!=2.3.0,<3.0.0dev,>=1.31.5->google-cloud-bigquery[pandas]) (5.2.0)\n",
      "Requirement already satisfied: pyasn1-modules>=0.2.1 in ./data-ml-pipeline/lib/python3.9/site-packages (from google-auth<3.0dev,>=1.25.0->google-api-core[grpc]!=2.0.*,!=2.1.*,!=2.2.*,!=2.3.0,<3.0.0dev,>=1.31.5->google-cloud-bigquery[pandas]) (0.2.8)\n",
      "Requirement already satisfied: rsa<5,>=3.1.4 in ./data-ml-pipeline/lib/python3.9/site-packages (from google-auth<3.0dev,>=1.25.0->google-api-core[grpc]!=2.0.*,!=2.1.*,!=2.2.*,!=2.3.0,<3.0.0dev,>=1.31.5->google-cloud-bigquery[pandas]) (4.8)\n",
      "Requirement already satisfied: pyasn1<0.5.0,>=0.4.6 in ./data-ml-pipeline/lib/python3.9/site-packages (from pyasn1-modules>=0.2.1->google-auth<3.0dev,>=1.25.0->google-api-core[grpc]!=2.0.*,!=2.1.*,!=2.2.*,!=2.3.0,<3.0.0dev,>=1.31.5->google-cloud-bigquery[pandas]) (0.4.8)\n"
     ]
    }
   ],
   "source": [
    "!pip3 install  google-cloud-bigquery[pandas]"
   ]
  },
  {
   "cell_type": "code",
   "execution_count": 19,
   "id": "9947e82a",
   "metadata": {},
   "outputs": [
    {
     "name": "stdout",
     "output_type": "stream",
     "text": [
      "Requirement already satisfied: matplotlib in ./data-ml-pipeline/lib/python3.9/site-packages (3.5.2)\n",
      "Requirement already satisfied: kiwisolver>=1.0.1 in ./data-ml-pipeline/lib/python3.9/site-packages (from matplotlib) (1.4.2)\n",
      "Requirement already satisfied: pillow>=6.2.0 in ./data-ml-pipeline/lib/python3.9/site-packages (from matplotlib) (9.1.1)\n",
      "Requirement already satisfied: pyparsing>=2.2.1 in ./data-ml-pipeline/lib/python3.9/site-packages (from matplotlib) (3.0.9)\n",
      "Requirement already satisfied: fonttools>=4.22.0 in ./data-ml-pipeline/lib/python3.9/site-packages (from matplotlib) (4.33.3)\n",
      "Requirement already satisfied: numpy>=1.17 in ./data-ml-pipeline/lib/python3.9/site-packages (from matplotlib) (1.22.4)\n",
      "Requirement already satisfied: python-dateutil>=2.7 in ./data-ml-pipeline/lib/python3.9/site-packages (from matplotlib) (2.8.2)\n",
      "Requirement already satisfied: cycler>=0.10 in ./data-ml-pipeline/lib/python3.9/site-packages (from matplotlib) (0.11.0)\n",
      "Requirement already satisfied: packaging>=20.0 in ./data-ml-pipeline/lib/python3.9/site-packages (from matplotlib) (21.3)\n",
      "Requirement already satisfied: six>=1.5 in ./data-ml-pipeline/lib/python3.9/site-packages (from python-dateutil>=2.7->matplotlib) (1.16.0)\n"
     ]
    }
   ],
   "source": [
    "!pip3 install matplotlib\n",
    "import os\n",
    "os.environ['GOOGLE_APPLICATION_CREDENTIALS'] = '/home/versyri1/cred.json'"
   ]
  },
  {
   "cell_type": "code",
   "execution_count": 20,
   "id": "c9089cb0",
   "metadata": {},
   "outputs": [],
   "source": [
    "from google.cloud import bigquery\n",
    "client = bigquery.Client()\n",
    "sql = \"\"\"\n",
    "  SELECT * \n",
    "  FROM  `bigquery-public-data.samples.natality`\n",
    "  limit 10\n",
    "\"\"\"\n",
    "\n",
    "natalityDF = client.query(sql)\n",
    "#natalityDF.head()"
   ]
  },
  {
   "cell_type": "code",
   "execution_count": 21,
   "id": "cc90a37e",
   "metadata": {},
   "outputs": [
    {
     "name": "stdout",
     "output_type": "stream",
     "text": [
      "Collecting kaggle\n",
      "  Downloading kaggle-1.5.12.tar.gz (58 kB)\n",
      "\u001b[2K     \u001b[90m━━━━━━━━━━━━━━━━━━━━━━━━━━━━━━━━━━━━━━━━\u001b[0m \u001b[32m59.0/59.0 kB\u001b[0m \u001b[31m9.1 MB/s\u001b[0m eta \u001b[36m0:00:00\u001b[0m\n",
      "\u001b[?25h  Preparing metadata (setup.py) ... \u001b[?25ldone\n",
      "\u001b[?25hRequirement already satisfied: six>=1.10 in ./data-ml-pipeline/lib/python3.9/site-packages (from kaggle) (1.16.0)\n",
      "Requirement already satisfied: certifi in ./data-ml-pipeline/lib/python3.9/site-packages (from kaggle) (2022.5.18.1)\n",
      "Requirement already satisfied: python-dateutil in ./data-ml-pipeline/lib/python3.9/site-packages (from kaggle) (2.8.2)\n",
      "Requirement already satisfied: requests in ./data-ml-pipeline/lib/python3.9/site-packages (from kaggle) (2.27.1)\n",
      "Collecting tqdm\n",
      "  Downloading tqdm-4.64.0-py2.py3-none-any.whl (78 kB)\n",
      "\u001b[2K     \u001b[90m━━━━━━━━━━━━━━━━━━━━━━━━━━━━━━━━━━━━━━━━\u001b[0m \u001b[32m78.4/78.4 kB\u001b[0m \u001b[31m14.2 MB/s\u001b[0m eta \u001b[36m0:00:00\u001b[0m\n",
      "\u001b[?25hCollecting python-slugify\n",
      "  Downloading python_slugify-6.1.2-py2.py3-none-any.whl (9.4 kB)\n",
      "Requirement already satisfied: urllib3 in ./data-ml-pipeline/lib/python3.9/site-packages (from kaggle) (1.26.9)\n",
      "Collecting text-unidecode>=1.3\n",
      "  Downloading text_unidecode-1.3-py2.py3-none-any.whl (78 kB)\n",
      "\u001b[2K     \u001b[90m━━━━━━━━━━━━━━━━━━━━━━━━━━━━━━━━━━━━━━━━\u001b[0m \u001b[32m78.2/78.2 kB\u001b[0m \u001b[31m14.3 MB/s\u001b[0m eta \u001b[36m0:00:00\u001b[0m\n",
      "\u001b[?25hRequirement already satisfied: charset-normalizer~=2.0.0 in ./data-ml-pipeline/lib/python3.9/site-packages (from requests->kaggle) (2.0.12)\n",
      "Requirement already satisfied: idna<4,>=2.5 in ./data-ml-pipeline/lib/python3.9/site-packages (from requests->kaggle) (3.3)\n",
      "Building wheels for collected packages: kaggle\n",
      "  Building wheel for kaggle (setup.py) ... \u001b[?25ldone\n",
      "\u001b[?25h  Created wheel for kaggle: filename=kaggle-1.5.12-py3-none-any.whl size=73049 sha256=49c418403d01eb91b9462c7cabb2021db918431e0ce9be9726ff6bd483f1a789\n",
      "  Stored in directory: /home/versyri1/.cache/pip/wheels/ac/b2/c3/fa4706d469b5879105991d1c8be9a3c2ef329ba9fe2ce5085e\n",
      "Successfully built kaggle\n",
      "Installing collected packages: text-unidecode, tqdm, python-slugify, kaggle\n",
      "Successfully installed kaggle-1.5.12 python-slugify-6.1.2 text-unidecode-1.3 tqdm-4.64.0\n"
     ]
    }
   ],
   "source": [
    "!pip3 install kaggle\n",
    "!kaggle datasets download martinellis/nhl-game-data\n",
    "!unzip nhl-game-data.zip\n",
    "!chmod 0600 *.csv\n",
    "nhlDF = pd.read_csv('game.csv') \n",
    "nhlDF.head()"
   ]
  },
  {
   "cell_type": "code",
   "execution_count": null,
   "id": "a6ec9f83",
   "metadata": {},
   "outputs": [],
   "source": []
  }
 ],
 "metadata": {
  "kernelspec": {
   "display_name": "Python 3 (ipykernel)",
   "language": "python",
   "name": "python3"
  },
  "language_info": {
   "codemirror_mode": {
    "name": "ipython",
    "version": 3
   },
   "file_extension": ".py",
   "mimetype": "text/x-python",
   "name": "python",
   "nbconvert_exporter": "python",
   "pygments_lexer": "ipython3",
   "version": "3.9.2"
  }
 },
 "nbformat": 4,
 "nbformat_minor": 5
}
